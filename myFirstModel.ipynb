{
  "nbformat": 4,
  "nbformat_minor": 0,
  "metadata": {
    "colab": {
      "name": "myFirstModel.ipynb",
      "version": "0.3.2",
      "provenance": [],
      "include_colab_link": true
    },
    "kernelspec": {
      "name": "python3",
      "display_name": "Python 3"
    },
    "accelerator": "GPU"
  },
  "cells": [
    {
      "cell_type": "markdown",
      "metadata": {
        "id": "view-in-github",
        "colab_type": "text"
      },
      "source": [
        "<a href=\"https://colab.research.google.com/github/Marlaina-G/OAuth2.0/blob/master/myFirstModel.ipynb\" target=\"_parent\"><img src=\"https://colab.research.google.com/assets/colab-badge.svg\" alt=\"Open In Colab\"/></a>"
      ]
    },
    {
      "metadata": {
        "id": "xgem6UgidV2d",
        "colab_type": "code",
        "outputId": "9b78bf63-ec3e-4a4c-c7e8-e16abbf8acaa",
        "colab": {
          "base_uri": "https://localhost:8080/",
          "height": 453
        }
      },
      "cell_type": "code",
      "source": [
        "# Objective : provide inputs (Celsius) and outputs (Fahrenheit) and train model to recognize formula (F = C*1.8 + 32) and predict F values given C\n",
        "import tensorflow as tf\n",
        "tf.logging.set_verbosity(tf.logging.ERROR)\n",
        "\n",
        "import numpy as np\n",
        "\n",
        "\n",
        "celsius_q = np.array([-40, -10, 0, 8, 15, 22, 38], dtype = float)\n",
        "fahrenheit_a = np.array([-40, 14, 32, 46, 59, 72, 100], dtype = float)\n",
        "\n",
        "for i,c in enumerate(celsius_q):\n",
        "  print(\"{} degrees Celsius = {} degrees Fahrenheit\".format(c, fahrenheit_a[i]))\n",
        "  \n",
        "# Build Layer  \n",
        "l0 = tf.keras.layers.Dense(units=1, input_shape=[1])  \n",
        "\n",
        "# Assemble Layer into Model\n",
        "model = tf.keras.Sequential([l0])\n",
        "\n",
        "## Lines 15 and 18 can be combined:\n",
        " ## model = tf.keras.Sequential([tf.keras.layers.Dense(units=1, input_shape=[1])])\n",
        "\n",
        "# Compile model with loss & optimizer functions\n",
        "model.compile(loss='mean_squared_error', optimizer=tf.keras.optimizers.Adam(1))  ## \"1\" is the learning rate\n",
        "\n",
        "# Train model **train by calling the fit method\n",
        "history = model.fit(celsius_q, fahrenheit_a, epochs=700, verbose=False)\n",
        "print(\"Finished training the model\")\n",
        "\n",
        "# Displaying Training Statistics\n",
        "import matplotlib.pyplot as plt\n",
        "plt.xlabel('Epoch Number')\n",
        "plt.ylabel(\"Loss Magnitude\")\n",
        "plt.plot(history.history['loss'])\n",
        "\n",
        "# Using the Model to Predict Values\n",
        "print(model.predict([100.0]))\n",
        "\n",
        "# Looking at Layer Weights\n",
        "print(\"These are the layer variables: {}\".format(l0.get_weights()))"
      ],
      "execution_count": 0,
      "outputs": [
        {
          "output_type": "stream",
          "text": [
            "-40.0 degrees Celsius = -40.0 degrees Fahrenheit\n",
            "-10.0 degrees Celsius = 14.0 degrees Fahrenheit\n",
            "0.0 degrees Celsius = 32.0 degrees Fahrenheit\n",
            "8.0 degrees Celsius = 46.0 degrees Fahrenheit\n",
            "15.0 degrees Celsius = 59.0 degrees Fahrenheit\n",
            "22.0 degrees Celsius = 72.0 degrees Fahrenheit\n",
            "38.0 degrees Celsius = 100.0 degrees Fahrenheit\n",
            "Finished training the model\n",
            "[[211.74745]]\n",
            "These are the layer variables: [array([[1.7979492]], dtype=float32), array([31.952524], dtype=float32)]\n"
          ],
          "name": "stdout"
        },
        {
          "output_type": "display_data",
          "data": {
            "image/png": "[encoded data removed]",
            "text/plain": [
              "<Figure size 432x288 with 1 Axes>"
            ]
          },
          "metadata": {
            "tags": []
          }
        }
      ]
    }
  ]
}